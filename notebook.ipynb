{
 "cells": [
  {
   "cell_type": "code",
   "execution_count": 55,
   "id": "0674f366-6b20-4d31-8c8e-d475c4f97712",
   "metadata": {},
   "outputs": [],
   "source": [
    "#first number\n",
    "num1 = 5"
   ]
  },
  {
   "cell_type": "code",
   "execution_count": 56,
   "id": "fd336c97-ae8f-4470-8fa3-01efda512f7c",
   "metadata": {},
   "outputs": [],
   "source": [
    "##second number\n",
    "num2 = 10"
   ]
  },
  {
   "cell_type": "code",
   "execution_count": 57,
   "id": "5045ef79-d880-4d4e-9c86-65b4da891069",
   "metadata": {},
   "outputs": [],
   "source": [
    "total = num1 + num2"
   ]
  },
  {
   "cell_type": "code",
   "execution_count": 58,
   "id": "0362c5d1-75e2-4f28-adea-d01a922cbc51",
   "metadata": {},
   "outputs": [
    {
     "ename": "SyntaxError",
     "evalue": "invalid syntax (2216801702.py, line 1)",
     "output_type": "error",
     "traceback": [
      "\u001b[0;36m  Input \u001b[0;32mIn [58]\u001b[0;36m\u001b[0m\n\u001b[0;31m    *Result*\u001b[0m\n\u001b[0m            ^\u001b[0m\n\u001b[0;31mSyntaxError\u001b[0m\u001b[0;31m:\u001b[0m invalid syntax\n"
     ]
    }
   ],
   "source": [
    "*Result*"
   ]
  },
  {
   "cell_type": "markdown",
   "id": "e9f2fa3d-2187-4369-9ae0-2575bb15cfdb",
   "metadata": {},
   "source": [
    "total"
   ]
  }
 ],
 "metadata": {
  "kernelspec": {
   "display_name": "Python 3 (ipykernel)",
   "language": "python",
   "name": "python3"
  },
  "language_info": {
   "codemirror_mode": {
    "name": "ipython",
    "version": 3
   },
   "file_extension": ".py",
   "mimetype": "text/x-python",
   "name": "python",
   "nbconvert_exporter": "python",
   "pygments_lexer": "ipython3",
   "version": "3.9.12"
  }
 },
 "nbformat": 4,
 "nbformat_minor": 5
}
